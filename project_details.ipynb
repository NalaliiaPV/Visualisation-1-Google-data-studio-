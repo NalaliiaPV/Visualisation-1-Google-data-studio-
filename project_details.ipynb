## Webinar attendance dashboard (work project)

This is a data visualization project for one of the companies (data blurred).
